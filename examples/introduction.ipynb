{
 "cells": [
  {
   "cell_type": "markdown",
   "metadata": {},
   "source": [
    "# Introduction"
   ]
  },
  {
   "cell_type": "code",
   "execution_count": 1,
   "metadata": {},
   "outputs": [],
   "source": [
    "import ipycallback\n",
    "from IPython.display import Javascript, display"
   ]
  },
  {
   "cell_type": "code",
   "execution_count": 2,
   "metadata": {},
   "outputs": [
    {
     "data": {
      "application/vnd.jupyter.widget-view+json": {
       "model_id": "94c89e93f6b2469c864734d59884f18f",
       "version_major": 2,
       "version_minor": 0
      },
      "text/plain": [
       "SlowTunnelWidget(js_endpoint=(0, ''), py_endpoint=(0, ''))"
      ]
     },
     "metadata": {},
     "output_type": "display_data"
    }
   ],
   "source": [
    "w = ipycallback.SlowTunnelWidget()\n",
    "w"
   ]
  },
  {
   "cell_type": "code",
   "execution_count": 3,
   "metadata": {},
   "outputs": [],
   "source": [
    "def on_val_change(x1, x2):\n",
    "    print(x1, x2)\n",
    "\n",
    "w.on_receive(on_val_change)"
   ]
  },
  {
   "cell_type": "code",
   "execution_count": 4,
   "metadata": {},
   "outputs": [
    {
     "data": {
      "application/javascript": [
       "\n",
       "function receive_msg(version, msg) {\n",
       "    console.log(version, msg);\n",
       "}\n",
       "\n",
       "window.IPyCallback.get(\"94c89e93f6b2469c864734d59884f18f\").send_msg(\"hello world 3\");\n",
       "window.IPyCallback.get(\"94c89e93f6b2469c864734d59884f18f\").on_receive(receive_msg)\n"
      ],
      "text/plain": [
       "<IPython.core.display.Javascript object>"
      ]
     },
     "metadata": {},
     "output_type": "display_data"
    }
   ],
   "source": [
    "display(Javascript(f\"\"\"\n",
    "function receive_msg(version, msg) {{\n",
    "    console.log(version, msg);\n",
    "}}\n",
    "\n",
    "window.IPyCallback.get(\"{w.model_id}\").send_msg(\"hello world 3\");\n",
    "window.IPyCallback.get(\"{w.model_id}\").on_receive(receive_msg)\n",
    "\"\"\"))"
   ]
  },
  {
   "cell_type": "code",
   "execution_count": 5,
   "metadata": {},
   "outputs": [],
   "source": [
    "w.push(2, '50220')"
   ]
  },
  {
   "cell_type": "code",
   "execution_count": null,
   "metadata": {},
   "outputs": [],
   "source": []
  }
 ],
 "metadata": {
  "kernelspec": {
   "display_name": "Python 3",
   "language": "python",
   "name": "python3"
  },
  "language_info": {
   "codemirror_mode": {
    "name": "ipython",
    "version": 3
   },
   "file_extension": ".py",
   "mimetype": "text/x-python",
   "name": "python",
   "nbconvert_exporter": "python",
   "pygments_lexer": "ipython3",
   "version": "3.7.6"
  }
 },
 "nbformat": 4,
 "nbformat_minor": 4
}
