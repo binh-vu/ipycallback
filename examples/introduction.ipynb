{
 "cells": [
  {
   "cell_type": "markdown",
   "metadata": {},
   "source": [
    "# Introduction"
   ]
  },
  {
   "cell_type": "code",
   "execution_count": 1,
   "metadata": {},
   "outputs": [],
   "source": [
    "import ipycallback\n",
    "from IPython.display import Javascript, display"
   ]
  },
  {
   "cell_type": "code",
   "execution_count": 2,
   "metadata": {},
   "outputs": [
    {
     "data": {
      "application/vnd.jupyter.widget-view+json": {
       "model_id": "208736dd8e5848a886801d2ab859d6c4",
       "version_major": 2,
       "version_minor": 0
      },
      "text/plain": [
       "SlowTunnelWidget(js_endpoint=(0, ''), py_endpoint=(0, ''), tunnel_id='ba10033f-afd1-482f-be5d-d053c0970724')"
      ]
     },
     "metadata": {},
     "output_type": "display_data"
    }
   ],
   "source": [
    "w = ipycallback.SlowTunnelWidget()\n",
    "w"
   ]
  },
  {
   "cell_type": "markdown",
   "metadata": {},
   "source": [
    "print message to stdout and a file to see"
   ]
  },
  {
   "cell_type": "code",
   "execution_count": 3,
   "metadata": {},
   "outputs": [],
   "source": [
    "def on_val_change(version, msg):\n",
    "    print(version, msg)\n",
    "    with open(\"/tmp/ipycallback_test.txt\", \"a\") as f:\n",
    "        f.write(\"%s: %s\\n\" % (version, msg))\n",
    "\n",
    "w.on_receive(on_val_change)"
   ]
  },
  {
   "cell_type": "markdown",
   "metadata": {},
   "source": [
    "send a message from client to python"
   ]
  },
  {
   "cell_type": "code",
   "execution_count": 4,
   "metadata": {},
   "outputs": [
    {
     "data": {
      "application/javascript": [
       "\n",
       "function receive_msg(version, msg) {\n",
       "    console.log(version, msg);\n",
       "}\n",
       "\n",
       "window.IPyCallback.get(\"ba10033f-afd1-482f-be5d-d053c0970724\").send_msg(\"hello world 3\");\n",
       "window.IPyCallback.get(\"ba10033f-afd1-482f-be5d-d053c0970724\").on_receive(receive_msg)\n"
      ],
      "text/plain": [
       "<IPython.core.display.Javascript object>"
      ]
     },
     "metadata": {},
     "output_type": "display_data"
    }
   ],
   "source": [
    "display(Javascript(f\"\"\"\n",
    "function receive_msg(version, msg) {{\n",
    "    console.log(version, msg);\n",
    "}}\n",
    "\n",
    "window.IPyCallback.get(\"{w.tunnel_id}\").send_msg(\"hello world 3\");\n",
    "window.IPyCallback.get(\"{w.tunnel_id}\").on_receive(receive_msg)\n",
    "\"\"\"))"
   ]
  },
  {
   "cell_type": "code",
   "execution_count": 7,
   "metadata": {},
   "outputs": [
    {
     "name": "stdout",
     "output_type": "stream",
     "text": [
      "1: hello world 3\r\n"
     ]
    }
   ],
   "source": [
    "!cat /tmp/ipycallback_test.txt"
   ]
  },
  {
   "cell_type": "markdown",
   "metadata": {},
   "source": [
    "send a message from python to JS (open developer tool to see)"
   ]
  },
  {
   "cell_type": "code",
   "execution_count": 8,
   "metadata": {},
   "outputs": [],
   "source": [
    "w.send_msg('50220')"
   ]
  }
 ],
 "metadata": {
  "kernelspec": {
   "display_name": "Python 3",
   "language": "python",
   "name": "python3"
  },
  "language_info": {
   "codemirror_mode": {
    "name": "ipython",
    "version": 3
   },
   "file_extension": ".py",
   "mimetype": "text/x-python",
   "name": "python",
   "nbconvert_exporter": "python",
   "pygments_lexer": "ipython3",
   "version": "3.8.8"
  }
 },
 "nbformat": 4,
 "nbformat_minor": 4
}
