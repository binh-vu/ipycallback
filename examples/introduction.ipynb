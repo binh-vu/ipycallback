{
 "cells": [
  {
   "cell_type": "markdown",
   "metadata": {},
   "source": [
    "# Introduction"
   ]
  },
  {
   "cell_type": "code",
   "execution_count": null,
   "metadata": {},
   "outputs": [],
   "source": [
    "import ipycallback\n",
    "from IPython.display import Javascript, display"
   ]
  },
  {
   "cell_type": "code",
   "execution_count": 2,
   "metadata": {},
   "outputs": [
    {
     "data": {
      "application/vnd.jupyter.widget-view+json": {
       "model_id": "a3bb0dd6cfe1446193599289a5535c5c",
       "version_major": 2,
       "version_minor": 0
      },
      "text/plain": [
       "SlowTunnelWidget(js_endpoint=(0, ''), py_endpoint=(0, ''), tunnel_id='9a4022b0-2fa2-497e-a5c4-20a4a0e320e6')"
      ]
     },
     "metadata": {},
     "output_type": "display_data"
    }
   ],
   "source": [
    "w = ipycallback.SlowTunnelWidget()\n",
    "w"
   ]
  },
  {
   "cell_type": "code",
   "execution_count": 4,
   "metadata": {},
   "outputs": [],
   "source": [
    "def on_val_change(version, msg):\n",
    "    print(version, msg)\n",
    "\n",
    "w.on_receive(on_val_change)"
   ]
  },
  {
   "cell_type": "code",
   "execution_count": 6,
   "metadata": {},
   "outputs": [
    {
     "data": {
      "application/javascript": [
       "\n",
       "function receive_msg(version, msg) {\n",
       "    console.log(version, msg);\n",
       "}\n",
       "\n",
       "window.IPyCallback.get(\"9a4022b0-2fa2-497e-a5c4-20a4a0e320e6\").send_msg(\"hello world 3\");\n",
       "window.IPyCallback.get(\"9a4022b0-2fa2-497e-a5c4-20a4a0e320e6\").on_receive(receive_msg)\n"
      ],
      "text/plain": [
       "<IPython.core.display.Javascript object>"
      ]
     },
     "metadata": {},
     "output_type": "display_data"
    }
   ],
   "source": [
    "display(Javascript(f\"\"\"\n",
    "function receive_msg(version, msg) {{\n",
    "    console.log(version, msg);\n",
    "}}\n",
    "\n",
    "window.IPyCallback.get(\"{w.tunnel_id}\").send_msg(\"hello world 3\");\n",
    "window.IPyCallback.get(\"{w.tunnel_id}\").on_receive(receive_msg)\n",
    "\"\"\"))"
   ]
  },
  {
   "cell_type": "code",
   "execution_count": 7,
   "metadata": {},
   "outputs": [],
   "source": [
    "w.send_msg('50220')"
   ]
  },
  {
   "cell_type": "code",
   "execution_count": null,
   "metadata": {},
   "outputs": [],
   "source": []
  }
 ],
 "metadata": {
  "kernelspec": {
   "display_name": "ipycallback",
   "language": "python",
   "name": "ipycallback"
  },
  "language_info": {
   "codemirror_mode": {
    "name": "ipython",
    "version": 3
   },
   "file_extension": ".py",
   "mimetype": "text/x-python",
   "name": "python",
   "nbconvert_exporter": "python",
   "pygments_lexer": "ipython3",
   "version": "3.8.3"
  }
 },
 "nbformat": 4,
 "nbformat_minor": 4
}
